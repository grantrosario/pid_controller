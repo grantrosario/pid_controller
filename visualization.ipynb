{
 "cells": [
  {
   "cell_type": "code",
   "execution_count": 2,
   "metadata": {
    "collapsed": false
   },
   "outputs": [],
   "source": [
    "with open('./cte_track/parameters.txt','r') as data:\n",
    "    Ki_lst = []\n",
    "    Kp_lst = []\n",
    "    Kd_lst = []\n",
    "    total_error = []\n",
    "    for x in data.read().split('\\n'):\n",
    "        if 'Kp_' in x: \n",
    "            Kp_lst.append(float(x.split(':')[1]))\n",
    "        elif 'Kd_' in x: \n",
    "            Kd_lst.append(float(x.split(':')[1]))\n",
    "        elif 'Ki_' in x: \n",
    "            Ki_lst.append(float(x.split(':')[1]))\n",
    "        elif 'total' in x: \n",
    "            total_error.append(float(x.split(':')[1]))"
   ]
  },
  {
   "cell_type": "code",
   "execution_count": 3,
   "metadata": {
    "collapsed": false
   },
   "outputs": [
    {
     "data": {
      "text/html": [
       "<iframe id=\"igraph\" scrolling=\"no\" style=\"border:none;\" seamless=\"seamless\" src=\"https://plot.ly/~gmlaud14/8.embed\" height=\"800px\" width=\"800px\"></iframe>"
      ],
      "text/plain": [
       "<plotly.tools.PlotlyDisplay object>"
      ]
     },
     "execution_count": 3,
     "metadata": {},
     "output_type": "execute_result"
    }
   ],
   "source": [
    "import plotly.plotly as py\n",
    "from plotly.graph_objs import *\n",
    "\n",
    "import pandas as pd\n",
    "\n",
    "df = pd.DataFrame({'Kp_':Kp_lst, 'Kd_':Kd_lst, 'Ki_':Ki_lst,'total':total_error})\n",
    "trace1 = Scatter3d(\n",
    "    x=df['Kp_'],\n",
    "    y=df['Kd_'],\n",
    "    z=df['Ki_'],\n",
    "    text = ['Kp','Kd','Ki'],\n",
    "    mode='markers',\n",
    "    marker=dict(\n",
    "        sizemode='diameter',\n",
    "        sizeref=750,\n",
    "        color = df['total'],\n",
    "        cmax = 0.1,\n",
    "        cmin = 0,\n",
    "        colorscale = 'Viridis',\n",
    "        colorbar = dict(title = 'Mean Square CTE'),\n",
    "        line=dict(color = [[0, 'rgb(0,0,255)'], [0.1, 'rgb(255,0,0)']])\n",
    "    )\n",
    ")\n",
    "\n",
    "data=[trace1]\n",
    "\n",
    "layout = Layout(\n",
    "    height =800,\n",
    "    width = 800,\n",
    "    title = 'Mean Square Error of recent 30 steps based on parameters',\n",
    "    scene=Scene(\n",
    "        xaxis=XAxis(title='Kp'),\n",
    "        yaxis=YAxis(title='Kd'),\n",
    "        zaxis=ZAxis(title='Ki')\n",
    "    )\n",
    ")\n",
    "\n",
    "fig=dict(data=data, layout=layout)\n",
    "py.iplot(fig, filename='3DBubble')"
   ]
  }
 ],
 "metadata": {
  "kernelspec": {
   "display_name": "Python 3",
   "language": "python",
   "name": "python3"
  },
  "language_info": {
   "codemirror_mode": {
    "name": "ipython",
    "version": 3
   },
   "file_extension": ".py",
   "mimetype": "text/x-python",
   "name": "python",
   "nbconvert_exporter": "python",
   "pygments_lexer": "ipython3",
   "version": "3.6.0"
  }
 },
 "nbformat": 4,
 "nbformat_minor": 2
}
